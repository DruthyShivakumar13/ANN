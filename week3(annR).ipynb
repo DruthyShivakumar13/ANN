{
 "cells": [
  {
   "cell_type": "code",
   "execution_count": 1,
   "id": "82121f82",
   "metadata": {},
   "outputs": [],
   "source": [
    "import numpy as np"
   ]
  },
  {
   "cell_type": "code",
   "execution_count": 2,
   "id": "413921be",
   "metadata": {},
   "outputs": [],
   "source": [
    "class ANNRegression:\n",
    "    def __init(self, layer_sizes , activation = 'relu'):\n",
    "        self.layer_sizes = layer_sizes\n",
    "        self.activation = activation\n",
    "        self.weights = []\n",
    "        self.biases = []\n",
    "        self.initialise_weights()"
   ]
  },
  {
   "cell_type": "code",
   "execution_count": 3,
   "id": "367774a4",
   "metadata": {},
   "outputs": [],
   "source": [
    "def _initialise_weights(self):\n",
    "    np.random.seed(0)\n",
    "    for i in range(1,len(self.layer_sizes)):\n",
    "        input_size = self.layer_sizes[i-1]\n",
    "        output_size = self.layers_sizes[i]\n",
    "        w = np.random.randn(input_size,output_size)\n",
    "        b = np.random.randn(output_size)\n",
    "        self.weights.append(w)\n",
    "        self.biases.append(b)"
   ]
  },
  {
   "cell_type": "code",
   "execution_count": 4,
   "id": "db143174",
   "metadata": {},
   "outputs": [],
   "source": [
    "def relu(self,x):\n",
    "    return np.maximum(0,x)\n",
    "    "
   ]
  },
  {
   "cell_type": "code",
   "execution_count": 5,
   "id": "1b890651",
   "metadata": {},
   "outputs": [],
   "source": [
    "def drelu(sel,x):\n",
    "    x[x<=0] = 0\n",
    "    x[x>0] = 1\n",
    "    return x"
   ]
  },
  {
   "cell_type": "code",
   "execution_count": 7,
   "id": "37f37042",
   "metadata": {},
   "outputs": [],
   "source": [
    "def mse_loss(self,y_true,y_pred):\n",
    "    return no.mean((y_true - y_pred)**2)\n",
    "    "
   ]
  },
  {
   "cell_type": "code",
   "execution_count": 8,
   "id": "6a35db1b",
   "metadata": {},
   "outputs": [],
   "source": [
    "def forward_propagation(self,X):\n",
    "    a = X\n",
    "    for i in range(len(self.weights)):\n",
    "        z = np.dot(self.weights[i],a) + self.biases[i]\n",
    "        a = relu(z)\n",
    "    return a    "
   ]
  },
  {
   "cell_type": "code",
   "execution_count": 22,
   "id": "429542b8",
   "metadata": {},
   "outputs": [],
   "source": [
    "def backward_propagation(self,X,y_true,y_pred):\n",
    "    # calculates error in output layer \n",
    "    error = y_pred - y_true      \n",
    "    \n",
    "    # loops backwards through the layers\n",
    "    for i in range(len(self.weights)-1,0,-1):     \n",
    "        # calculates the derivative of activation function.\n",
    "        if self.activation == \"relu\":                     \n",
    "            der = np.where(self.z_values[i] > 0,1,0)\n",
    "            \n",
    "        #calculates the error of this (current) layer\n",
    "        error = np.dot(error , self.weights[i].T) * der  \n",
    "        \n",
    "        #update weights and biases\n",
    "        self.weights[i] = self.learning_rate * np.dot(self.a_values[i-1].T, error)\n",
    "        self.biases[i] = self.learning_rate * np.sum(error, axis=0)                  \n",
    "        \n",
    "        # calculates the error of next layer\n",
    "        if i ==1:\n",
    "            der = np.where(self.z_values[i-1] > 0,1,0)\n",
    "            error = np.dot(error, self.weights[i-1].T) * der            \n",
    "            \n",
    "        #update weights and biases    \n",
    "        self.weights[0] = self.learning_rate * np.dot(X.T, error)\n",
    "        self.biases[0] = self.learnin_rate * np.sum(error, axis=0)\n",
    "        "
   ]
  },
  {
   "cell_type": "code",
   "execution_count": 23,
   "id": "05e8cd2d",
   "metadata": {},
   "outputs": [],
   "source": [
    "def train(self, X, y_true, n_epochs, batch_size, learning_rate=0.01):\n",
    "    self.learning_rate = learning_rate\n",
    "    m = X.shape[0]\n",
    "    for i in range(n_epochs):\n",
    "        index = np.arrange(m)\n",
    "        np.random.shuffle(index)\n",
    "        for j in range(0, m, batch_size):\n",
    "            batch_index = index[j:j+batch_size]\n",
    "            X_batch = X[batch_index]\n",
    "            y_batch = y_true[batch_index]\n",
    "            y_pred = self._forward_propagation(X_batch)\n",
    "            seklf._backward_propgation(X_batch, y_batch, y_pred)"
   ]
  },
  {
   "cell_type": "code",
   "execution_count": 24,
   "id": "b1cb9804",
   "metadata": {},
   "outputs": [],
   "source": [
    "def fit(self, X, y, learning_rate=0.01 , n_epochs=100, batch_size=32):\n",
    "    self.train(x, y_true, n_epochs, batch_size)"
   ]
  },
  {
   "cell_type": "code",
   "execution_count": 25,
   "id": "5b57db3f",
   "metadata": {},
   "outputs": [],
   "source": [
    "def predict(self,X):\n",
    "    return self.forward_propagation(X)"
   ]
  },
  {
   "cell_type": "code",
   "execution_count": 28,
   "id": "1ac8404d",
   "metadata": {},
   "outputs": [],
   "source": [
    "def accuracy(self, X, y):\n",
    "    y_pred = self.predict(X)\n",
    "    acc = self.mse_loss(y_true , y_pred)\n",
    "    return acc"
   ]
  },
  {
   "cell_type": "code",
   "execution_count": null,
   "id": "63d5ba3b",
   "metadata": {},
   "outputs": [],
   "source": []
  }
 ],
 "metadata": {
  "kernelspec": {
   "display_name": "Python 3 (ipykernel)",
   "language": "python",
   "name": "python3"
  },
  "language_info": {
   "codemirror_mode": {
    "name": "ipython",
    "version": 3
   },
   "file_extension": ".py",
   "mimetype": "text/x-python",
   "name": "python",
   "nbconvert_exporter": "python",
   "pygments_lexer": "ipython3",
   "version": "3.9.12"
  }
 },
 "nbformat": 4,
 "nbformat_minor": 5
}
