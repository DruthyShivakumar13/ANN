{
 "cells": [
  {
   "cell_type": "code",
   "execution_count": 18,
   "id": "62de13b3",
   "metadata": {},
   "outputs": [],
   "source": [
    "import numpy as np\n",
    "import pandas as pd\n",
    "from sklearn.model_selection import train_test_split\n",
    "from sklearn.preprocessing import StandardScaler\n",
    "from sklearn.metrics import r2_score\n",
    "import time"
   ]
  },
  {
   "cell_type": "code",
   "execution_count": 19,
   "id": "d9ce0ef8",
   "metadata": {},
   "outputs": [],
   "source": [
    "df  = pd.read_csv(\"boston.csv\", index_col = 0)"
   ]
  },
  {
   "cell_type": "code",
   "execution_count": 20,
   "id": "77a70703",
   "metadata": {},
   "outputs": [],
   "source": [
    "# split into input and target variables\n",
    "X = df.iloc[:, :-1].values\n",
    "y = df.iloc[:, -1].values.reshape(-1, 1)\n",
    "\n",
    "# scale the input features\n",
    "scaler = StandardScaler()\n",
    "X = scaler.fit_transform(X)"
   ]
  },
  {
   "cell_type": "code",
   "execution_count": 21,
   "id": "27f097a1",
   "metadata": {},
   "outputs": [
    {
     "data": {
      "text/plain": [
       "(506, 13)"
      ]
     },
     "execution_count": 21,
     "metadata": {},
     "output_type": "execute_result"
    }
   ],
   "source": [
    "X.shape"
   ]
  },
  {
   "cell_type": "code",
   "execution_count": 22,
   "id": "80e78c6d",
   "metadata": {},
   "outputs": [],
   "source": [
    "# Splitting the dataset into the Training set and Test set\n",
    "from sklearn.model_selection import train_test_split\n",
    "X_train, X_test, y_train, y_test = train_test_split(X, y, test_size = 0.3, random_state = 25)"
   ]
  },
  {
   "cell_type": "code",
   "execution_count": 23,
   "id": "abb823e9",
   "metadata": {},
   "outputs": [],
   "source": [
    "class ANNRegressor:\n",
    "    def __init__(self, n_input, n_hidden, n_output):\n",
    "        self.weights1 = np.random.randn(n_input, n_hidden)\n",
    "        self.bias1 = np.zeros((1, n_hidden))\n",
    "        self.weights2 = np.random.randn(n_hidden, n_output)\n",
    "        self.bias2 = np.zeros((1, n_output))\n",
    "\n",
    "    def sigmoid(self, x):\n",
    "        return 1 / (1 + np.exp(-x))\n",
    "\n",
    "    def relu(self, x):\n",
    "        return np.maximum(0, x)\n",
    "\n",
    "    def forward(self, X):\n",
    "        self.z1 = np.dot(X, self.weights1) + self.bias1\n",
    "        self.a1 = self.sigmoid(self.z1)\n",
    "        self.z2 = np.dot(self.a1, self.weights2) + self.bias2\n",
    "        self.y_pred = self.relu(self.z2)\n",
    "        return self.y_pred\n",
    "\n",
    "    def backward(self, X, y, y_pred, learning_rate):\n",
    "        m = X.shape[0]\n",
    "        error = y_pred - y\n",
    "        delta2 = error\n",
    "        d_weights2 = np.dot(self.a1.T, delta2)\n",
    "        d_bias2 = np.sum(delta2, axis=0, keepdims=True)\n",
    "        delta1 = np.dot(delta2, self.weights2.T) * self.a1 * (1 - self.a1)\n",
    "        d_weights1 = np.dot(X.T, delta1)\n",
    "        d_bias1 = np.sum(delta1, axis=0)\n",
    "\n",
    "        # Update the weights and biases\n",
    "        self.weights1 -= learning_rate * d_weights1 / m\n",
    "        self.bias1 -= learning_rate * d_bias1 / m\n",
    "        self.weights2 -= learning_rate * d_weights2 / m\n",
    "        self.bias2 -= learning_rate * d_bias2 / m\n",
    "        \n",
    "    def train(self, X, y, n_epochs, learning_rate):\n",
    "        start_time = time.time()  # Record start time\n",
    "        for i in range(n_epochs):\n",
    "            epoch_start_time = time.time()  # Record start time of epoch\n",
    "            y_hat = self.forward(X)\n",
    "            self.backward(X, y, y_hat, learning_rate)\n",
    "            epoch_end_time = time.time()  # Record end time of epoch\n",
    "            step_time = epoch_end_time - epoch_start_time  # Calculate step time    \n",
    "        end_time = time.time()  # Record end time\n",
    "        elapsed_time = end_time - start_time  # Calculate elapsed time\n",
    "        print(\"Elapsed Time:\", elapsed_time)"
   ]
  },
  {
   "cell_type": "code",
   "execution_count": 30,
   "id": "3a1ba6ed",
   "metadata": {},
   "outputs": [],
   "source": [
    "# Initialize the neural network with 13 input nodes, 5 hidden nodes, and 1 output node\n",
    "n_input = X_train.shape[1]\n",
    "n_hidden = 5\n",
    "n_output = 1\n",
    "nn = ANNRegressor(n_input, n_hidden, n_output)\n",
    "\n",
    "# Train the neural network and evaluate its performance on the test set\n",
    "learning_rate = 0.01\n",
    "n_epochs = 1500"
   ]
  },
  {
   "cell_type": "code",
   "execution_count": 31,
   "id": "bb278702",
   "metadata": {},
   "outputs": [
    {
     "name": "stdout",
     "output_type": "stream",
     "text": [
      "Elapsed Time: 0.334104061126709\n",
      "Mean Squared Error: 14.17152086220796\n"
     ]
    }
   ],
   "source": [
    "start_time = time.time()\n",
    "nn.train(X_train, y_train, n_epochs, learning_rate)\n",
    "end_time = time.time()\n",
    "\n",
    "y_pred = nn.forward(X_test)\n",
    "mse = np.mean((y_pred - y_test) ** 2)\n",
    "print(\"Mean Squared Error:\", mse)\n",
    "\n"
   ]
  },
  {
   "cell_type": "code",
   "execution_count": 32,
   "id": "e427325f",
   "metadata": {},
   "outputs": [
    {
     "data": {
      "text/plain": [
       "0.8119139279132723"
      ]
     },
     "execution_count": 32,
     "metadata": {},
     "output_type": "execute_result"
    }
   ],
   "source": [
    "score_manual = r2_score(y_test, y_pred)\n",
    "score_manual"
   ]
  },
  {
   "cell_type": "markdown",
   "id": "d4689361",
   "metadata": {},
   "source": [
    "# Hyper Parameter Tuning"
   ]
  },
  {
   "cell_type": "code",
   "execution_count": 33,
   "id": "dc3b1426",
   "metadata": {},
   "outputs": [
    {
     "name": "stdout",
     "output_type": "stream",
     "text": [
      "Elapsed Time: 0.46175193786621094\n",
      "Elapsed Time: 0.3799867630004883\n",
      "Elapsed Time: 0.40192413330078125\n",
      "Elapsed Time: 0.40192556381225586\n",
      "Elapsed Time: 0.3959388732910156\n",
      "Elapsed Time: 0.5006599426269531\n",
      "Elapsed Time: 0.45977067947387695\n",
      "Elapsed Time: 0.48669934272766113\n",
      "Elapsed Time: 0.48470187187194824\n",
      "Best number of hidden nodes: 7\n",
      "Best learning rate: 0.05\n",
      "Best R2 score: 0.8565659277168707\n",
      "Best number of epochs: 1500\n",
      "Total time taken: 3.9943 seconds\n"
     ]
    }
   ],
   "source": [
    "# define the range of hyperparameters to search\n",
    "\n",
    "import time\n",
    "\n",
    "start_time = time.time()\n",
    "\n",
    "n_hidden_list = [3, 5, 7]\n",
    "learning_rate_list = [0.01, 0.05, 0.1]\n",
    "epochs_list = [500, 1000, 1500]\n",
    "\n",
    "# initialize variables to keep track of the best hyperparameters and performance\n",
    "best_n_hidden = None\n",
    "best_learning_rate = None\n",
    "best_epochs = None\n",
    "best_score = float('-inf')\n",
    "\n",
    "# loop through all possible combinations of hyperparameters\n",
    "for n_hidden in n_hidden_list:\n",
    "    for learning_rate in learning_rate_list:\n",
    "        for n_epochs in epochs_list:\n",
    "        \n",
    "        # initialize the neural network with the current hyperparameters\n",
    "           nn = ANNRegressor(n_input, n_hidden, n_output)\n",
    "\n",
    "        # train the neural network\n",
    "        nn.train(X_train, y_train, n_epochs, learning_rate)\n",
    "\n",
    "        # evaluate the performance on the test set\n",
    "        y_pred = nn.forward(X_test)\n",
    "        score = r2_score(y_test, y_pred)\n",
    "\n",
    "        # check if the current hyperparameters are the best so far\n",
    "        if score > best_score:\n",
    "            best_score = score\n",
    "            best_n_hidden = n_hidden\n",
    "            best_learning_rate = learning_rate\n",
    "            best_epochs = n_epochs\n",
    "\n",
    "# print the best hyperparameters and performance\n",
    "print(\"Best number of hidden nodes:\", best_n_hidden)\n",
    "print(\"Best learning rate:\", best_learning_rate)\n",
    "print(\"Best R2 score:\", best_score)\n",
    "print(f\"Best number of epochs: {best_epochs}\")\n",
    "\n",
    "end_time = time.time()\n",
    "total_time = end_time - start_time\n",
    "print(f\"Total time taken: {total_time:.4f} seconds\")"
   ]
  },
  {
   "cell_type": "markdown",
   "id": "2d21d6bc",
   "metadata": {},
   "source": [
    "# Using keras"
   ]
  },
  {
   "cell_type": "code",
   "execution_count": 34,
   "id": "09a474bf",
   "metadata": {},
   "outputs": [],
   "source": [
    "from keras.models import Sequential\n",
    "from keras.layers import Dense"
   ]
  },
  {
   "cell_type": "code",
   "execution_count": 35,
   "id": "663d4a4e",
   "metadata": {},
   "outputs": [],
   "source": [
    "# Define the neural network\n",
    "model = Sequential()\n",
    "model.add(Dense(5, input_dim=X_train.shape[1], activation='relu'))\n",
    "model.add(Dense(1, activation='linear'))"
   ]
  },
  {
   "cell_type": "code",
   "execution_count": 36,
   "id": "da398cd0",
   "metadata": {},
   "outputs": [],
   "source": [
    "# Compile the model\n",
    "model.compile(loss='mean_squared_error', optimizer='adam')"
   ]
  },
  {
   "cell_type": "code",
   "execution_count": 37,
   "id": "2060a94e",
   "metadata": {},
   "outputs": [],
   "source": [
    "n_epochs = 1500\n",
    "start_time = time.time()\n",
    "model.fit(X_train, y_train, epochs=n_epochs, batch_size=32, verbose=0)\n",
    "end_time = time.time()"
   ]
  },
  {
   "cell_type": "code",
   "execution_count": 38,
   "id": "495f996c",
   "metadata": {},
   "outputs": [
    {
     "name": "stdout",
     "output_type": "stream",
     "text": [
      "5/5 [==============================] - 0s 3ms/step\n",
      "Training time: 39.38828206062317 seconds\n",
      "R2 score: 0.8308310794885952\n"
     ]
    }
   ],
   "source": [
    "# Predict on the test set and calculate the R2 score\n",
    "y_pred = model.predict(X_test)\n",
    "r2 = r2_score(y_test, y_pred)\n",
    "\n",
    "print(\"Training time:\", end_time - start_time, \"seconds\")\n",
    "print(\"R2 score:\", r2)\n"
   ]
  },
  {
   "cell_type": "markdown",
   "id": "ea656b86",
   "metadata": {},
   "source": [
    "# Visualization"
   ]
  },
  {
   "cell_type": "code",
   "execution_count": 39,
   "id": "5a7c3eb1",
   "metadata": {},
   "outputs": [],
   "source": [
    "import matplotlib.pyplot as plt"
   ]
  },
  {
   "cell_type": "code",
   "execution_count": 40,
   "id": "63ebedf5",
   "metadata": {},
   "outputs": [
    {
     "data": {
      "image/png": "[encoded data removed]",
      "text/plain": [
       "<Figure size 432x288 with 1 Axes>"
      ]
     },
     "metadata": {
      "needs_background": "light"
     },
     "output_type": "display_data"
    }
   ],
   "source": [
    "df = pd.DataFrame({'Algorithm': ['ANN Manual', 'ANN HyperParameter', 'ANN Keras'],\n",
    "                   'Accuracy': [score_manual, score, r2]})\n",
    "df['Accuracy'] = df['Accuracy'].astype(float)\n",
    "fig, ax = plt.subplots()\n",
    "df.plot('Algorithm', 'Accuracy', kind='line', ax=ax, color=\"black\", marker='o', markersize=8)\n",
    "plt.title('R2 Score Comparison for Boston Housing Dataset')\n",
    "plt.xlabel('Algorithm')\n",
    "plt.ylabel('R2 Score')\n",
    "plt.show()\n"
   ]
  },
  {
   "cell_type": "code",
   "execution_count": null,
   "id": "14790fd8",
   "metadata": {},
   "outputs": [],
   "source": []
  }
 ],
 "metadata": {
  "kernelspec": {
   "display_name": "Python 3 (ipykernel)",
   "language": "python",
   "name": "python3"
  },
  "language_info": {
   "codemirror_mode": {
    "name": "ipython",
    "version": 3
   },
   "file_extension": ".py",
   "mimetype": "text/x-python",
   "name": "python",
   "nbconvert_exporter": "python",
   "pygments_lexer": "ipython3",
   "version": "3.9.12"
  }
 },
 "nbformat": 4,
 "nbformat_minor": 5
}
