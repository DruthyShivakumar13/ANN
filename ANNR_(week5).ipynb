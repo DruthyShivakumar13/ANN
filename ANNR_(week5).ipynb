{
 "cells": [
  {
   "cell_type": "code",
   "execution_count": null,
   "metadata": {
    "id": "4VHM30AcJu4j"
   },
   "outputs": [],
   "source": [
    "import numpy as np\n",
    "import pandas as pd\n",
    "from sklearn.datasets import load_boston\n",
    "from sklearn.model_selection import train_test_split\n",
    "from sklearn.preprocessing import StandardScaler"
   ]
  },
  {
   "cell_type": "code",
   "execution_count": null,
   "metadata": {
    "id": "A82c0PTOP1P4"
   },
   "outputs": [],
   "source": [
    "class Neural_Network():\n",
    "    def __init__(self, layer_size = [50,], learning_rate = 0.000001, epochs = 100):\n",
    "        self.learning_rate = learning_rate\n",
    "        self.epoch = epochs\n",
    "        self.layer_size = layer_size\n",
    "        self.input = self.layer_size[0] # feature numbers\n",
    "        self.output = self.layer_size[-1] # class number \n",
    "\n",
    "        \n",
    "        #copying the elements of the layer_size and making a new list of only hidden layers\n",
    "        self.hidden_layer = self.layer_size.copy()\n",
    "        self.hidden_layer = self.hidden_layer[1 : -1]\n",
    "        self.hidden_units = sum(self.hidden_layer)\n",
    "\n",
    "\n",
    "        # initialize matrix of weights;\n",
    "        np.random.seed(1) \n",
    "        # weight1: input -> hidden layer \n",
    "        self.w1 = np.random.randn(self.input, self.hidden_units) # 4*6 matrix\n",
    "\n",
    "        # weight2: hidden layer -> output\n",
    "        self.w2 = np.random.randn(self.hidden_units, self.output) # 6*1 matrix\n",
    "        \n",
    "    def relu(self,x):\n",
    "        return np.maximum(0,x)\n",
    "\n",
    "    def drelu(self, x):\n",
    "        x[x<=0] = 0\n",
    "        x[x>0] = 1\n",
    "        return x\n",
    "\n",
    "    def linear(self, x):\n",
    "        return x\n",
    "    \n",
    "    def _loss(self, predict, actual):\n",
    "        actual, pred = np.array(actual), np.array(predict)\n",
    "        return np.square(np.subtract(actual,pred)).mean()\n",
    "\n",
    "    def _forward_propagation(self, X):\n",
    "        self.z2 = np.dot(self.w1.T, X.T)\n",
    "        self.a2 = self.relu(self.z2) \n",
    "        self.z3 = np.dot(self.w2.T, self.a2)\n",
    "        self.a3 = self.linear(self.z3)\n",
    "        return self.a3\n",
    "\n",
    "    def _backward_propagation(self, X, y):\n",
    "        predict = self._forward_propagation(X)\n",
    "        m = X.shape[0]\n",
    "        delta3 = predict - y\n",
    "        dz3 = np.multiply(delta3, self.drelu(self.z3))\n",
    "        self.dw2 = (1/m)*np.sum(np.multiply(self.a2, dz3), axis=1).reshape(self.w2.shape)\n",
    "        \n",
    "        delta2 = delta3*self.w2*self.drelu(self.z2)\n",
    "        self.dw1 = (1/m)*np.dot(X.T, delta2.T)\n",
    "\n",
    "    def _update(self):\n",
    "        self.w1 = self.w1 - self.learning_rate*self.dw1\n",
    "        self.w2 = self.w2 - self.learning_rate*self.dw2\n",
    "\n",
    "    def train(self, X, y):\n",
    "        for i in range(self.epoch):\n",
    "            y_hat = self._forward_propagation(X)\n",
    "            loss = self._loss(y_hat, y)\n",
    "            self._backward_propagation(X,y)\n",
    "            self._update()\n",
    "            if i%10==0:\n",
    "                print(\"loss: \", loss)\n",
    "                \n",
    "    def predict(self, X):\n",
    "        y_hat = self._forward_propagation(X)\n",
    "        y_hat = [1 if i[0] >= 0.5 else 0 for i in y_hat.T]\n",
    "        return np.array(y_hat)"
   ]
  },
  {
   "cell_type": "code",
   "execution_count": null,
   "metadata": {
    "colab": {
     "base_uri": "https://localhost:8080/"
    },
    "id": "foerogxkP2N7",
    "outputId": "bd41292f-f67a-4e2d-b91c-a1eab532a718"
   },
   "outputs": [
    {
     "name": "stderr",
     "output_type": "stream",
     "text": [
      "/usr/local/lib/python3.8/dist-packages/sklearn/utils/deprecation.py:87: FutureWarning: Function load_boston is deprecated; `load_boston` is deprecated in 1.0 and will be removed in 1.2.\n",
      "\n",
      "    The Boston housing prices dataset has an ethical problem. You can refer to\n",
      "    the documentation of this function for further details.\n",
      "\n",
      "    The scikit-learn maintainers therefore strongly discourage the use of this\n",
      "    dataset unless the purpose of the code is to study and educate about\n",
      "    ethical issues in data science and machine learning.\n",
      "\n",
      "    In this special case, you can fetch the dataset from the original\n",
      "    source::\n",
      "\n",
      "        import pandas as pd\n",
      "        import numpy as np\n",
      "\n",
      "\n",
      "        data_url = \"http://lib.stat.cmu.edu/datasets/boston\"\n",
      "        raw_df = pd.read_csv(data_url, sep=\"\\s+\", skiprows=22, header=None)\n",
      "        data = np.hstack([raw_df.values[::2, :], raw_df.values[1::2, :2]])\n",
      "        target = raw_df.values[1::2, 2]\n",
      "\n",
      "    Alternative datasets include the California housing dataset (i.e.\n",
      "    :func:`~sklearn.datasets.fetch_california_housing`) and the Ames housing\n",
      "    dataset. You can load the datasets as follows::\n",
      "\n",
      "        from sklearn.datasets import fetch_california_housing\n",
      "        housing = fetch_california_housing()\n",
      "\n",
      "    for the California housing dataset and::\n",
      "\n",
      "        from sklearn.datasets import fetch_openml\n",
      "        housing = fetch_openml(name=\"house_prices\", as_frame=True)\n",
      "\n",
      "    for the Ames housing dataset.\n",
      "    \n",
      "  warnings.warn(msg, category=FutureWarning)\n"
     ]
    }
   ],
   "source": [
    "boston = load_boston()\n",
    "X = boston.data[:,0:13]\n",
    "y = boston.target"
   ]
  },
  {
   "cell_type": "code",
   "execution_count": null,
   "metadata": {
    "id": "tuZKc0f4P1-1"
   },
   "outputs": [],
   "source": [
    "# Splitting the dataset into the Training set and Test set\n",
    "from sklearn.model_selection import train_test_split\n",
    "X_train, X_test, y_train, y_test = train_test_split(X, y, test_size = 0.3, random_state = 25)"
   ]
  },
  {
   "cell_type": "code",
   "execution_count": null,
   "metadata": {
    "id": "Sn2SQ3Rbxk7G"
   },
   "outputs": [],
   "source": [
    "input = len(X[0]) # no. of features\n",
    "#output = len(list(y[0])) #no. of classes\n",
    "\n",
    "layers = [input, 3, 8, 1] # no. of nodes \n",
    "model = Neural_Network(layer_size = layers, epochs = 100, learning_rate = 0.15)"
   ]
  },
  {
   "cell_type": "code",
   "execution_count": null,
   "metadata": {
    "colab": {
     "base_uri": "https://localhost:8080/"
    },
    "id": "MhYVAl3ixk3Q",
    "outputId": "337a91e9-46f8-4b4c-d655-decddc64695b"
   },
   "outputs": [
    {
     "name": "stdout",
     "output_type": "stream",
     "text": [
      "loss:  787525.4065460862\n",
      "loss:  598.4659604519775\n",
      "loss:  598.4659604519775\n",
      "loss:  598.4659604519775\n",
      "loss:  598.4659604519775\n",
      "loss:  598.4659604519775\n",
      "loss:  598.4659604519775\n",
      "loss:  598.4659604519775\n",
      "loss:  598.4659604519775\n",
      "loss:  598.4659604519775\n"
     ]
    }
   ],
   "source": [
    "model.train(X_train, y_train)"
   ]
  },
  {
   "cell_type": "code",
   "execution_count": null,
   "metadata": {
    "colab": {
     "base_uri": "https://localhost:8080/"
    },
    "id": "femV7F0vxk0q",
    "outputId": "3a943c1e-426b-4ac1-9ea8-b28769e1f1cf"
   },
   "outputs": [
    {
     "data": {
      "text/plain": [
       "-6.663720696126403"
      ]
     },
     "execution_count": 56,
     "metadata": {},
     "output_type": "execute_result"
    }
   ],
   "source": [
    "from sklearn.metrics import r2_score\n",
    "y_pred = model.predict(X_test)\n",
    "r2_score(y_test, y_pred)"
   ]
  },
  {
   "cell_type": "code",
   "execution_count": null,
   "metadata": {
    "id": "RFEyIz7fxkyA"
   },
   "outputs": [],
   "source": []
  }
 ],
 "metadata": {
  "colab": {
   "provenance": []
  },
  "kernelspec": {
   "display_name": "Python 3 (ipykernel)",
   "language": "python",
   "name": "python3"
  },
  "language_info": {
   "codemirror_mode": {
    "name": "ipython",
    "version": 3
   },
   "file_extension": ".py",
   "mimetype": "text/x-python",
   "name": "python",
   "nbconvert_exporter": "python",
   "pygments_lexer": "ipython3",
   "version": "3.9.12"
  }
 },
 "nbformat": 4,
 "nbformat_minor": 1
}
