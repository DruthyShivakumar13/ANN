{
 "cells": [
  {
   "cell_type": "code",
   "execution_count": 59,
   "id": "ea2ce8a7",
   "metadata": {},
   "outputs": [],
   "source": [
    "import numpy as np\n",
    "import pandas as pd\n",
    "from sklearn.model_selection import train_test_split\n",
    "from sklearn.preprocessing import StandardScaler\n",
    "from sklearn.metrics import r2_score\n"
   ]
  },
  {
   "cell_type": "code",
   "execution_count": 60,
   "id": "b3f5be1c",
   "metadata": {},
   "outputs": [],
   "source": [
    "df  = pd.read_csv(\"boston.csv\", index_col = 0)\n"
   ]
  },
  {
   "cell_type": "code",
   "execution_count": 61,
   "id": "d0539b53",
   "metadata": {},
   "outputs": [],
   "source": [
    "# split into input and target variables\n",
    "X = df.iloc[:, :-1].values\n",
    "y = df.iloc[:, -1].values.reshape(-1, 1)\n",
    "\n",
    "# scale the input features\n",
    "scaler = StandardScaler()\n",
    "X = scaler.fit_transform(X)\n"
   ]
  },
  {
   "cell_type": "code",
   "execution_count": 62,
   "id": "7797dfc1",
   "metadata": {},
   "outputs": [
    {
     "data": {
      "text/plain": [
       "(506, 13)"
      ]
     },
     "execution_count": 62,
     "metadata": {},
     "output_type": "execute_result"
    }
   ],
   "source": [
    "X.shape"
   ]
  },
  {
   "cell_type": "code",
   "execution_count": 63,
   "id": "68ec980a",
   "metadata": {},
   "outputs": [],
   "source": [
    "# Splitting the dataset into the Training set and Test set\n",
    "from sklearn.model_selection import train_test_split\n",
    "X_train, X_test, y_train, y_test = train_test_split(X, y, test_size = 0.3, random_state = 25)"
   ]
  },
  {
   "cell_type": "code",
   "execution_count": 64,
   "id": "e2ac63a5",
   "metadata": {},
   "outputs": [],
   "source": [
    "class ANNRegressor:\n",
    "    def __init__(self, n_input, n_hidden, n_output):\n",
    "        self.weights1 = np.random.randn(n_input, n_hidden)\n",
    "        self.bias1 = np.zeros((1, n_hidden))\n",
    "        self.weights2 = np.random.randn(n_hidden, n_output)\n",
    "        self.bias2 = np.zeros((1, n_output))\n",
    "\n",
    "    def sigmoid(self, x):\n",
    "        return 1 / (1 + np.exp(-x))\n",
    "\n",
    "    def relu(self, x):\n",
    "        return np.maximum(0, x)\n",
    "\n",
    "    def forward(self, X):\n",
    "        self.z1 = np.dot(X, self.weights1) + self.bias1\n",
    "        self.a1 = self.sigmoid(self.z1)\n",
    "        self.z2 = np.dot(self.a1, self.weights2) + self.bias2\n",
    "        self.y_hat = self.relu(self.z2)\n",
    "        return self.y_hat\n",
    "\n",
    "    def backward(self, X, y, y_hat, learning_rate):\n",
    "        m = X.shape[0]\n",
    "        error = y_hat - y\n",
    "        delta2 = error\n",
    "        d_weights2 = np.dot(self.a1.T, delta2)\n",
    "        d_bias2 = np.sum(delta2, axis=0, keepdims=True)\n",
    "        delta1 = np.dot(delta2, self.weights2.T) * self.a1 * (1 - self.a1)\n",
    "        d_weights1 = np.dot(X.T, delta1)\n",
    "        d_bias1 = np.sum(delta1, axis=0)\n",
    "\n",
    "        # Update the weights and biases\n",
    "        self.weights1 -= learning_rate * d_weights1 / m\n",
    "        self.bias1 -= learning_rate * d_bias1 / m\n",
    "        self.weights2 -= learning_rate * d_weights2 / m\n",
    "        self.bias2 -= learning_rate * d_bias2 / m\n",
    "\n",
    "    def train(self, X, y, n_epochs, learning_rate):\n",
    "        for i in range(n_epochs):\n",
    "            y_hat = self.forward(X)\n",
    "            self.backward(X, y, y_hat, learning_rate)"
   ]
  },
  {
   "cell_type": "code",
   "execution_count": 65,
   "id": "40267465",
   "metadata": {},
   "outputs": [],
   "source": [
    "# Initialize the neural network with 13 input nodes, 5 hidden nodes, and 1 output node\n",
    "n_input = X_train.shape[1]\n",
    "n_hidden = 5\n",
    "n_output = 1\n",
    "nn = ANNRegressor(n_input, n_hidden, n_output)\n",
    "\n",
    "# Train the neural network and evaluate its performance on the test set\n",
    "learning_rate = 0.01\n",
    "n_epochs = 1000"
   ]
  },
  {
   "cell_type": "code",
   "execution_count": 66,
   "id": "514d5610",
   "metadata": {},
   "outputs": [
    {
     "name": "stdout",
     "output_type": "stream",
     "text": [
      "Mean Squared Error: 14.755433315436255\n"
     ]
    }
   ],
   "source": [
    "nn.train(X_train, y_train, n_epochs, learning_rate)\n",
    "y_pred = nn.forward(X_test)\n",
    "mse = np.mean((y_pred - y_test) ** 2)\n",
    "print(\"Mean Squared Error:\", mse)"
   ]
  },
  {
   "cell_type": "code",
   "execution_count": 67,
   "id": "4a1bdf18",
   "metadata": {},
   "outputs": [
    {
     "data": {
      "text/plain": [
       "0.8041641739639194"
      ]
     },
     "execution_count": 67,
     "metadata": {},
     "output_type": "execute_result"
    }
   ],
   "source": [
    "r2_score(y_test, y_pred)"
   ]
  },
  {
   "cell_type": "code",
   "execution_count": 69,
   "id": "c5619b52",
   "metadata": {},
   "outputs": [
    {
     "name": "stdout",
     "output_type": "stream",
     "text": [
      "Best number of hidden nodes: 7\n",
      "Best learning rate: 0.1\n",
      "Best R2 score: 0.8638998573552035\n"
     ]
    }
   ],
   "source": [
    "# define the range of hyperparameters to search\n",
    "n_hidden_list = [3, 5, 7]\n",
    "learning_rate_list = [0.01, 0.05, 0.1]\n",
    "\n",
    "# initialize variables to keep track of the best hyperparameters and performance\n",
    "best_n_hidden = None\n",
    "best_learning_rate = None\n",
    "best_score = float('-inf')\n",
    "\n",
    "# loop through all possible combinations of hyperparameters\n",
    "for n_hidden in n_hidden_list:\n",
    "    for learning_rate in learning_rate_list:\n",
    "        \n",
    "        # initialize the neural network with the current hyperparameters\n",
    "        nn = ANNRegressor(n_input, n_hidden, n_output)\n",
    "\n",
    "        # train the neural network\n",
    "        nn.train(X_train, y_train, n_epochs, learning_rate)\n",
    "\n",
    "        # evaluate the performance on the test set\n",
    "        y_pred = nn.forward(X_test)\n",
    "        score = r2_score(y_test, y_pred)\n",
    "\n",
    "        # check if the current hyperparameters are the best so far\n",
    "        if score > best_score:\n",
    "            best_score = score\n",
    "            best_n_hidden = n_hidden\n",
    "            best_learning_rate = learning_rate\n",
    "\n",
    "# print the best hyperparameters and performance\n",
    "print(\"Best number of hidden nodes:\", best_n_hidden)\n",
    "print(\"Best learning rate:\", best_learning_rate)\n",
    "print(\"Best R2 score:\", best_score)\n"
   ]
  },
  {
   "cell_type": "code",
   "execution_count": 70,
   "id": "d923a24b",
   "metadata": {},
   "outputs": [],
   "source": [
    "import matplotlib.pyplot as plt"
   ]
  },
  {
   "cell_type": "code",
   "execution_count": 92,
   "id": "24c55e19",
   "metadata": {},
   "outputs": [],
   "source": [
    "# Manual Algorithm\n",
    "nn = ANNRegressor(n_input, n_hidden, n_output)\n",
    "nn.train(X_train, y_train, n_epochs, learning_rate)\n",
    "y_pred = nn.forward(X_test)\n",
    "r2_manual = r2_score(y_test, y_pred)"
   ]
  },
  {
   "cell_type": "code",
   "execution_count": 93,
   "id": "c2d697d2",
   "metadata": {},
   "outputs": [],
   "source": [
    "# Manual Algorithm with Hyperparameter Tuning\n",
    "nn = ANNRegressor(n_input, 10, n_output) # change number of hidden nodes\n",
    "nn.train(X_train, y_train, n_epochs, learning_rate)\n",
    "y_pred = nn.forward(X_test)\n",
    "r2_manual_tuned = r2_score(y_test, y_pred)\n"
   ]
  },
  {
   "cell_type": "code",
   "execution_count": 94,
   "id": "babf6bcf",
   "metadata": {},
   "outputs": [
    {
     "name": "stdout",
     "output_type": "stream",
     "text": [
      "5/5 [==============================] - 0s 2ms/step\n"
     ]
    }
   ],
   "source": [
    "# Keras Algorithm\n",
    "from keras.models import Sequential\n",
    "from keras.layers import Dense\n",
    "\n",
    "model = Sequential()\n",
    "model.add(Dense(10, input_dim=n_input, activation='relu'))\n",
    "model.add(Dense(n_output))\n",
    "model.compile(loss='mean_squared_error', optimizer='adam')\n",
    "model.fit(X_train, y_train, epochs=100, batch_size=10, verbose=0)\n",
    "y_pred = model.predict(X_test)\n",
    "r2_keras = r2_score(y_test, y_pred)\n"
   ]
  },
  {
   "cell_type": "code",
   "execution_count": 96,
   "id": "025e920a",
   "metadata": {},
   "outputs": [
    {
     "data": {
      "image/png": "[encoded data removed]",
      "text/plain": [
       "<Figure size 432x288 with 1 Axes>"
      ]
     },
     "metadata": {
      "needs_background": "light"
     },
     "output_type": "display_data"
    }
   ],
   "source": [
    "# Plot the results\n",
    "models = ['Manual Algorithm', 'Manual Algorithm (Tuned)', 'Keras Algorithm']\n",
    "r2_scores = [r2_manual, r2_manual_tuned, r2_keras]\n",
    "plt.bar(models, r2_scores)\n",
    "plt.ylabel('R2 Score')\n",
    "plt.show()\n"
   ]
  },
  {
   "cell_type": "code",
   "execution_count": null,
   "id": "3d67dda6",
   "metadata": {},
   "outputs": [],
   "source": []
  },
  {
   "cell_type": "code",
   "execution_count": null,
   "id": "112044d5",
   "metadata": {},
   "outputs": [],
   "source": []
  }
 ],
 "metadata": {
  "kernelspec": {
   "display_name": "Python 3 (ipykernel)",
   "language": "python",
   "name": "python3"
  },
  "language_info": {
   "codemirror_mode": {
    "name": "ipython",
    "version": 3
   },
   "file_extension": ".py",
   "mimetype": "text/x-python",
   "name": "python",
   "nbconvert_exporter": "python",
   "pygments_lexer": "ipython3",
   "version": "3.9.12"
  }
 },
 "nbformat": 4,
 "nbformat_minor": 5
}
